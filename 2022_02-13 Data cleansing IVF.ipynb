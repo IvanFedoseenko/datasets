{
 "cells": [
  {
   "cell_type": "markdown",
   "id": "f09b160b",
   "metadata": {},
   "source": [
    "# Очистка данных"
   ]
  },
  {
   "cell_type": "markdown",
   "id": "62479711",
   "metadata": {},
   "source": [
    "# Загрузка библиотек"
   ]
  },
  {
   "cell_type": "raw",
   "id": "70c96b37",
   "metadata": {},
   "source": [
    "Загрузим библиотеки pandas и numpy"
   ]
  },
  {
   "cell_type": "code",
   "execution_count": 1,
   "id": "69f3837a",
   "metadata": {},
   "outputs": [],
   "source": [
    "import pandas as pd\n",
    "import numpy as np"
   ]
  },
  {
   "cell_type": "raw",
   "id": "6d44339e",
   "metadata": {},
   "source": [
    "Не смог загрузить файл из облака, поэтому загрузил датасет с помощью метода pd.read_csv() в формате .csv с локального диска, положив его в одну папку с данной тетрадкой ipynb"
   ]
  },
  {
   "cell_type": "code",
   "execution_count": 2,
   "id": "e1c98815",
   "metadata": {},
   "outputs": [],
   "source": [
    "url = \"https://raw.githubusercontent.com/IvanFedoseenko/datasets/main/airline_portcountry.csv\"\n",
    "df = pd.read_csv(url)"
   ]
  },
  {
   "cell_type": "raw",
   "id": "c72c6f88",
   "metadata": {},
   "source": [
    "При помощи метода .columns посмотрим названия столбцов в загруженном датасете"
   ]
  },
  {
   "cell_type": "code",
   "execution_count": 3,
   "id": "cd3e0d73",
   "metadata": {
    "scrolled": true
   },
   "outputs": [
    {
     "data": {
      "text/html": [
       "<div>\n",
       "<style scoped>\n",
       "    .dataframe tbody tr th:only-of-type {\n",
       "        vertical-align: middle;\n",
       "    }\n",
       "\n",
       "    .dataframe tbody tr th {\n",
       "        vertical-align: top;\n",
       "    }\n",
       "\n",
       "    .dataframe thead th {\n",
       "        text-align: right;\n",
       "    }\n",
       "</style>\n",
       "<table border=\"1\" class=\"dataframe\">\n",
       "  <thead>\n",
       "    <tr style=\"text-align: right;\">\n",
       "      <th></th>\n",
       "      <th>Month</th>\n",
       "      <th>Airline</th>\n",
       "      <th>Port_Country</th>\n",
       "      <th>Passengers_In</th>\n",
       "      <th>Freight_In_(tonnes)</th>\n",
       "      <th>Mail_In_(tonnes)</th>\n",
       "      <th>Passengers_Out</th>\n",
       "      <th>Freight_Out_(tonnes)</th>\n",
       "      <th>Mail_Out_(tonnes)</th>\n",
       "      <th>Year</th>\n",
       "      <th>Month_num</th>\n",
       "    </tr>\n",
       "  </thead>\n",
       "  <tbody>\n",
       "    <tr>\n",
       "      <th>0</th>\n",
       "      <td>Jan-85</td>\n",
       "      <td>Air Caledonie</td>\n",
       "      <td>New Caledonia</td>\n",
       "      <td>725.0</td>\n",
       "      <td>0.368</td>\n",
       "      <td>0.0</td>\n",
       "      <td>474.0</td>\n",
       "      <td>0.167</td>\n",
       "      <td>0.0</td>\n",
       "      <td>1985</td>\n",
       "      <td>1</td>\n",
       "    </tr>\n",
       "    <tr>\n",
       "      <th>1</th>\n",
       "      <td>Jan-85</td>\n",
       "      <td>Air China</td>\n",
       "      <td>China</td>\n",
       "      <td>1311.0</td>\n",
       "      <td>9.158</td>\n",
       "      <td>0.0</td>\n",
       "      <td>1232.0</td>\n",
       "      <td>2.587</td>\n",
       "      <td>0.0</td>\n",
       "      <td>1985</td>\n",
       "      <td>1</td>\n",
       "    </tr>\n",
       "    <tr>\n",
       "      <th>2</th>\n",
       "      <td>Jan-85</td>\n",
       "      <td>Air India</td>\n",
       "      <td>India</td>\n",
       "      <td>1423.0</td>\n",
       "      <td>44.823</td>\n",
       "      <td>0.0</td>\n",
       "      <td>970.0</td>\n",
       "      <td>6.708</td>\n",
       "      <td>0.0</td>\n",
       "      <td>1985</td>\n",
       "      <td>1</td>\n",
       "    </tr>\n",
       "    <tr>\n",
       "      <th>3</th>\n",
       "      <td>Jan-85</td>\n",
       "      <td>Air India</td>\n",
       "      <td>Singapore</td>\n",
       "      <td>501.0</td>\n",
       "      <td>10.583</td>\n",
       "      <td>0.0</td>\n",
       "      <td>306.0</td>\n",
       "      <td>124.966</td>\n",
       "      <td>0.0</td>\n",
       "      <td>1985</td>\n",
       "      <td>1</td>\n",
       "    </tr>\n",
       "    <tr>\n",
       "      <th>4</th>\n",
       "      <td>Jan-85</td>\n",
       "      <td>Air Nauru</td>\n",
       "      <td>Nauru</td>\n",
       "      <td>161.0</td>\n",
       "      <td>0.212</td>\n",
       "      <td>0.0</td>\n",
       "      <td>96.0</td>\n",
       "      <td>23.996</td>\n",
       "      <td>0.0</td>\n",
       "      <td>1985</td>\n",
       "      <td>1</td>\n",
       "    </tr>\n",
       "  </tbody>\n",
       "</table>\n",
       "</div>"
      ],
      "text/plain": [
       "    Month        Airline   Port_Country  Passengers_In  Freight_In_(tonnes)  \\\n",
       "0  Jan-85  Air Caledonie  New Caledonia          725.0                0.368   \n",
       "1  Jan-85      Air China          China         1311.0                9.158   \n",
       "2  Jan-85      Air India          India         1423.0               44.823   \n",
       "3  Jan-85      Air India      Singapore          501.0               10.583   \n",
       "4  Jan-85      Air Nauru          Nauru          161.0                0.212   \n",
       "\n",
       "   Mail_In_(tonnes)  Passengers_Out  Freight_Out_(tonnes)  Mail_Out_(tonnes)  \\\n",
       "0               0.0           474.0                 0.167                0.0   \n",
       "1               0.0          1232.0                 2.587                0.0   \n",
       "2               0.0           970.0                 6.708                0.0   \n",
       "3               0.0           306.0               124.966                0.0   \n",
       "4               0.0            96.0                23.996                0.0   \n",
       "\n",
       "   Year  Month_num  \n",
       "0  1985          1  \n",
       "1  1985          1  \n",
       "2  1985          1  \n",
       "3  1985          1  \n",
       "4  1985          1  "
      ]
     },
     "execution_count": 3,
     "metadata": {},
     "output_type": "execute_result"
    }
   ],
   "source": [
    "df.head()"
   ]
  },
  {
   "cell_type": "code",
   "execution_count": 4,
   "id": "87e37fc2",
   "metadata": {
    "scrolled": true
   },
   "outputs": [
    {
     "data": {
      "text/plain": [
       "Index(['Month', 'Airline', 'Port_Country', 'Passengers_In',\n",
       "       'Freight_In_(tonnes)', 'Mail_In_(tonnes)', 'Passengers_Out',\n",
       "       'Freight_Out_(tonnes)', 'Mail_Out_(tonnes)', 'Year', 'Month_num'],\n",
       "      dtype='object')"
      ]
     },
     "execution_count": 4,
     "metadata": {},
     "output_type": "execute_result"
    }
   ],
   "source": [
    "df.columns"
   ]
  },
  {
   "cell_type": "raw",
   "id": "721aadf9",
   "metadata": {},
   "source": [
    "При помощи метода .info() узнаем количественное описание загруженного датасета."
   ]
  },
  {
   "cell_type": "code",
   "execution_count": 5,
   "id": "7d30d424",
   "metadata": {
    "scrolled": false
   },
   "outputs": [
    {
     "name": "stdout",
     "output_type": "stream",
     "text": [
      "<class 'pandas.core.frame.DataFrame'>\n",
      "RangeIndex: 43856 entries, 0 to 43855\n",
      "Data columns (total 11 columns):\n",
      " #   Column                Non-Null Count  Dtype  \n",
      "---  ------                --------------  -----  \n",
      " 0   Month                 43856 non-null  object \n",
      " 1   Airline               43856 non-null  object \n",
      " 2   Port_Country          43856 non-null  object \n",
      " 3   Passengers_In         43823 non-null  float64\n",
      " 4   Freight_In_(tonnes)   43838 non-null  float64\n",
      " 5   Mail_In_(tonnes)      43838 non-null  float64\n",
      " 6   Passengers_Out        43824 non-null  float64\n",
      " 7   Freight_Out_(tonnes)  43848 non-null  float64\n",
      " 8   Mail_Out_(tonnes)     43848 non-null  float64\n",
      " 9   Year                  43856 non-null  int64  \n",
      " 10  Month_num             43856 non-null  int64  \n",
      "dtypes: float64(6), int64(2), object(3)\n",
      "memory usage: 3.7+ MB\n"
     ]
    }
   ],
   "source": [
    "df.info()"
   ]
  },
  {
   "cell_type": "raw",
   "id": "838b3bc3",
   "metadata": {},
   "source": [
    "Обратим основное внимание на количество ненулевых значений:\n",
    "Всего - 43856 строк\n",
    "По столбцу Passengers_Out из 43856 строк 43824 - ненулевые"
   ]
  },
  {
   "cell_type": "raw",
   "id": "ff151115",
   "metadata": {},
   "source": [
    "Удалим строки, содержащие пустое значение хотя бы в одном из 11-ти столбцов с помощью метода .dropna(0, how='any'), где 0 означает удаление построчно, а how='any' - в случае отсутсвия значения хотя бы в одном столбце "
   ]
  },
  {
   "cell_type": "code",
   "execution_count": 6,
   "id": "60d9f2f4",
   "metadata": {
    "scrolled": true
   },
   "outputs": [
    {
     "name": "stderr",
     "output_type": "stream",
     "text": [
      "C:\\Users\\IFEDOS~1\\AppData\\Local\\Temp/ipykernel_12140/1303843727.py:1: FutureWarning: In a future version of pandas all arguments of DataFrame.dropna will be keyword-only\n",
      "  df = df.dropna(0, how='any')\n"
     ]
    }
   ],
   "source": [
    "df = df.dropna(0, how='any')"
   ]
  },
  {
   "cell_type": "raw",
   "id": "3d1925d8",
   "metadata": {},
   "source": [
    "Убедимся, что строки содержащие пустые значения хотя бы в одном столбце удалены. Ожидаем, что по всем столбцам кол-во ненулвых значений равно общему количеству строк. Проверим это, вызвав метод .info() снова"
   ]
  },
  {
   "cell_type": "code",
   "execution_count": 7,
   "id": "3669d991",
   "metadata": {},
   "outputs": [
    {
     "name": "stdout",
     "output_type": "stream",
     "text": [
      "<class 'pandas.core.frame.DataFrame'>\n",
      "Int64Index: 43823 entries, 0 to 43855\n",
      "Data columns (total 11 columns):\n",
      " #   Column                Non-Null Count  Dtype  \n",
      "---  ------                --------------  -----  \n",
      " 0   Month                 43823 non-null  object \n",
      " 1   Airline               43823 non-null  object \n",
      " 2   Port_Country          43823 non-null  object \n",
      " 3   Passengers_In         43823 non-null  float64\n",
      " 4   Freight_In_(tonnes)   43823 non-null  float64\n",
      " 5   Mail_In_(tonnes)      43823 non-null  float64\n",
      " 6   Passengers_Out        43823 non-null  float64\n",
      " 7   Freight_Out_(tonnes)  43823 non-null  float64\n",
      " 8   Mail_Out_(tonnes)     43823 non-null  float64\n",
      " 9   Year                  43823 non-null  int64  \n",
      " 10  Month_num             43823 non-null  int64  \n",
      "dtypes: float64(6), int64(2), object(3)\n",
      "memory usage: 4.0+ MB\n"
     ]
    }
   ],
   "source": [
    "df.info()"
   ]
  },
  {
   "cell_type": "raw",
   "id": "9be233ec",
   "metadata": {},
   "source": [
    "Видим, что по всем столбцам кол-во ненулевых строк равно 43823 и эквивалентно общему кол-ву строк 43823. Взглянем на весь датасет с помощью метода .head()"
   ]
  },
  {
   "cell_type": "code",
   "execution_count": 8,
   "id": "2299c7ac",
   "metadata": {},
   "outputs": [
    {
     "data": {
      "text/html": [
       "<div>\n",
       "<style scoped>\n",
       "    .dataframe tbody tr th:only-of-type {\n",
       "        vertical-align: middle;\n",
       "    }\n",
       "\n",
       "    .dataframe tbody tr th {\n",
       "        vertical-align: top;\n",
       "    }\n",
       "\n",
       "    .dataframe thead th {\n",
       "        text-align: right;\n",
       "    }\n",
       "</style>\n",
       "<table border=\"1\" class=\"dataframe\">\n",
       "  <thead>\n",
       "    <tr style=\"text-align: right;\">\n",
       "      <th></th>\n",
       "      <th>Month</th>\n",
       "      <th>Airline</th>\n",
       "      <th>Port_Country</th>\n",
       "      <th>Passengers_In</th>\n",
       "      <th>Freight_In_(tonnes)</th>\n",
       "      <th>Mail_In_(tonnes)</th>\n",
       "      <th>Passengers_Out</th>\n",
       "      <th>Freight_Out_(tonnes)</th>\n",
       "      <th>Mail_Out_(tonnes)</th>\n",
       "      <th>Year</th>\n",
       "      <th>Month_num</th>\n",
       "    </tr>\n",
       "  </thead>\n",
       "  <tbody>\n",
       "    <tr>\n",
       "      <th>0</th>\n",
       "      <td>Jan-85</td>\n",
       "      <td>Air Caledonie</td>\n",
       "      <td>New Caledonia</td>\n",
       "      <td>725.0</td>\n",
       "      <td>0.368</td>\n",
       "      <td>0.0</td>\n",
       "      <td>474.0</td>\n",
       "      <td>0.167</td>\n",
       "      <td>0.0</td>\n",
       "      <td>1985</td>\n",
       "      <td>1</td>\n",
       "    </tr>\n",
       "    <tr>\n",
       "      <th>1</th>\n",
       "      <td>Jan-85</td>\n",
       "      <td>Air China</td>\n",
       "      <td>China</td>\n",
       "      <td>1311.0</td>\n",
       "      <td>9.158</td>\n",
       "      <td>0.0</td>\n",
       "      <td>1232.0</td>\n",
       "      <td>2.587</td>\n",
       "      <td>0.0</td>\n",
       "      <td>1985</td>\n",
       "      <td>1</td>\n",
       "    </tr>\n",
       "    <tr>\n",
       "      <th>2</th>\n",
       "      <td>Jan-85</td>\n",
       "      <td>Air India</td>\n",
       "      <td>India</td>\n",
       "      <td>1423.0</td>\n",
       "      <td>44.823</td>\n",
       "      <td>0.0</td>\n",
       "      <td>970.0</td>\n",
       "      <td>6.708</td>\n",
       "      <td>0.0</td>\n",
       "      <td>1985</td>\n",
       "      <td>1</td>\n",
       "    </tr>\n",
       "    <tr>\n",
       "      <th>3</th>\n",
       "      <td>Jan-85</td>\n",
       "      <td>Air India</td>\n",
       "      <td>Singapore</td>\n",
       "      <td>501.0</td>\n",
       "      <td>10.583</td>\n",
       "      <td>0.0</td>\n",
       "      <td>306.0</td>\n",
       "      <td>124.966</td>\n",
       "      <td>0.0</td>\n",
       "      <td>1985</td>\n",
       "      <td>1</td>\n",
       "    </tr>\n",
       "    <tr>\n",
       "      <th>4</th>\n",
       "      <td>Jan-85</td>\n",
       "      <td>Air Nauru</td>\n",
       "      <td>Nauru</td>\n",
       "      <td>161.0</td>\n",
       "      <td>0.212</td>\n",
       "      <td>0.0</td>\n",
       "      <td>96.0</td>\n",
       "      <td>23.996</td>\n",
       "      <td>0.0</td>\n",
       "      <td>1985</td>\n",
       "      <td>1</td>\n",
       "    </tr>\n",
       "  </tbody>\n",
       "</table>\n",
       "</div>"
      ],
      "text/plain": [
       "    Month        Airline   Port_Country  Passengers_In  Freight_In_(tonnes)  \\\n",
       "0  Jan-85  Air Caledonie  New Caledonia          725.0                0.368   \n",
       "1  Jan-85      Air China          China         1311.0                9.158   \n",
       "2  Jan-85      Air India          India         1423.0               44.823   \n",
       "3  Jan-85      Air India      Singapore          501.0               10.583   \n",
       "4  Jan-85      Air Nauru          Nauru          161.0                0.212   \n",
       "\n",
       "   Mail_In_(tonnes)  Passengers_Out  Freight_Out_(tonnes)  Mail_Out_(tonnes)  \\\n",
       "0               0.0           474.0                 0.167                0.0   \n",
       "1               0.0          1232.0                 2.587                0.0   \n",
       "2               0.0           970.0                 6.708                0.0   \n",
       "3               0.0           306.0               124.966                0.0   \n",
       "4               0.0            96.0                23.996                0.0   \n",
       "\n",
       "   Year  Month_num  \n",
       "0  1985          1  \n",
       "1  1985          1  \n",
       "2  1985          1  \n",
       "3  1985          1  \n",
       "4  1985          1  "
      ]
     },
     "execution_count": 8,
     "metadata": {},
     "output_type": "execute_result"
    }
   ],
   "source": [
    "df.head()"
   ]
  },
  {
   "cell_type": "raw",
   "id": "c79e239a",
   "metadata": {},
   "source": [
    "Удалим строки за 2020-ый года и за 1-ый квартал 2021-го года.\n",
    "С помощью метода .index найдем номера строк датасета по столбцу Year со значением 2020 и удалим их построчно (0) при помощи метода .drop()\n",
    "Аналогично удалим строки за 1-ый квартал 2021-го года"
   ]
  },
  {
   "cell_type": "code",
   "execution_count": 9,
   "id": "167207b8",
   "metadata": {
    "scrolled": true
   },
   "outputs": [
    {
     "name": "stderr",
     "output_type": "stream",
     "text": [
      "C:\\Users\\IFEDOS~1\\AppData\\Local\\Temp/ipykernel_12140/11027258.py:1: FutureWarning: In a future version of pandas all arguments of DataFrame.drop except for the argument 'labels' will be keyword-only\n",
      "  df1 = df.drop(df[(df.Year == 2021) & (df.Month_num == 1)].index, 0)\n",
      "C:\\Users\\IFEDOS~1\\AppData\\Local\\Temp/ipykernel_12140/11027258.py:2: FutureWarning: In a future version of pandas all arguments of DataFrame.drop except for the argument 'labels' will be keyword-only\n",
      "  df1 = df1.drop(df1[(df1.Year == 2020)].index, 0)\n"
     ]
    }
   ],
   "source": [
    "df1 = df.drop(df[(df.Year == 2021) & (df.Month_num == 1)].index, 0)\n",
    "df1 = df1.drop(df1[(df1.Year == 2020)].index, 0)"
   ]
  },
  {
   "cell_type": "raw",
   "id": "3ecde0d5",
   "metadata": {},
   "source": [
    "Оценим результаты"
   ]
  },
  {
   "cell_type": "code",
   "execution_count": 10,
   "id": "afc13246",
   "metadata": {},
   "outputs": [
    {
     "name": "stdout",
     "output_type": "stream",
     "text": [
      "<class 'pandas.core.frame.DataFrame'>\n",
      "Int64Index: 42759 entries, 0 to 43855\n",
      "Data columns (total 11 columns):\n",
      " #   Column                Non-Null Count  Dtype  \n",
      "---  ------                --------------  -----  \n",
      " 0   Month                 42759 non-null  object \n",
      " 1   Airline               42759 non-null  object \n",
      " 2   Port_Country          42759 non-null  object \n",
      " 3   Passengers_In         42759 non-null  float64\n",
      " 4   Freight_In_(tonnes)   42759 non-null  float64\n",
      " 5   Mail_In_(tonnes)      42759 non-null  float64\n",
      " 6   Passengers_Out        42759 non-null  float64\n",
      " 7   Freight_Out_(tonnes)  42759 non-null  float64\n",
      " 8   Mail_Out_(tonnes)     42759 non-null  float64\n",
      " 9   Year                  42759 non-null  int64  \n",
      " 10  Month_num             42759 non-null  int64  \n",
      "dtypes: float64(6), int64(2), object(3)\n",
      "memory usage: 3.9+ MB\n"
     ]
    }
   ],
   "source": [
    "df1.info()"
   ]
  },
  {
   "cell_type": "raw",
   "id": "be6f1e1e",
   "metadata": {},
   "source": [
    "Видим, что кол-во строк сократилось с 43823 ранее до 42759 после удаления 2020 и Q12021"
   ]
  },
  {
   "cell_type": "code",
   "execution_count": null,
   "id": "987aa12c",
   "metadata": {},
   "outputs": [],
   "source": []
  },
  {
   "cell_type": "code",
   "execution_count": null,
   "id": "9b826d58",
   "metadata": {},
   "outputs": [],
   "source": []
  },
  {
   "cell_type": "code",
   "execution_count": null,
   "id": "151b8fa8",
   "metadata": {},
   "outputs": [],
   "source": []
  }
 ],
 "metadata": {
  "kernelspec": {
   "display_name": "Python 3 (ipykernel)",
   "language": "python",
   "name": "python3"
  },
  "language_info": {
   "codemirror_mode": {
    "name": "ipython",
    "version": 3
   },
   "file_extension": ".py",
   "mimetype": "text/x-python",
   "name": "python",
   "nbconvert_exporter": "python",
   "pygments_lexer": "ipython3",
   "version": "3.9.7"
  }
 },
 "nbformat": 4,
 "nbformat_minor": 5
}
